{
 "cells": [
  {
   "cell_type": "markdown",
   "metadata": {},
   "source": [
    "## 准备数据"
   ]
  },
  {
   "cell_type": "code",
   "execution_count": 3,
   "metadata": {},
   "outputs": [],
   "source": [
    "import os\n",
    "import numpy as np\n",
    "import tensorflow as tf\n",
    "from tensorflow import keras\n",
    "from tensorflow.keras import layers, optimizers, datasets\n",
    "\n",
    "os.environ['TF_CPP_MIN_LOG_LEVEL'] = '2'  # or any {'0', '1', '2'}\n",
    "\n",
    "def mnist_dataset():\n",
    "    (x, y), (x_test, y_test) = datasets.mnist.load_data()\n",
    "    #normalize\n",
    "    x = x/255.0\n",
    "    x_test = x_test/255.0\n",
    "    \n",
    "    return (x, y), (x_test, y_test)"
   ]
  },
  {
   "cell_type": "code",
   "execution_count": 4,
   "metadata": {},
   "outputs": [
    {
     "name": "stdout",
     "output_type": "stream",
     "text": [
      "[(1, 'a'), (2, 'b'), (3, 'c'), (4, 'd')]\n"
     ]
    }
   ],
   "source": [
    "print(list(zip([1, 2, 3, 4], ['a', 'b', 'c', 'd'])))"
   ]
  },
  {
   "cell_type": "markdown",
   "metadata": {},
   "source": [
    "## 建立模型"
   ]
  },
  {
   "cell_type": "code",
   "execution_count": 5,
   "metadata": {},
   "outputs": [],
   "source": [
    "class myModel:\n",
    "    def __init__(self):\n",
    "        ####################\n",
    "        '''声明模型对应的参数'''\n",
    "        ####################\n",
    "        self.W1 = tf.Variable(tf.random.normal([784, 128]), dtype=tf.float32)\n",
    "        self.b1 = tf.Variable(tf.zeros([128]), dtype=tf.float32)\n",
    "        self.W2 = tf.Variable(tf.random.normal([128, 10]), dtype=tf.float32)\n",
    "        self.b2 = tf.Variable(tf.zeros([10]), dtype=tf.float32)\n",
    "    def __call__(self, x):\n",
    "        ####################\n",
    "        '''实现模型函数体，返回未归一化的logits'''\n",
    "        ####################\n",
    "        x = tf.reshape(x, [-1, 784])  # 展平输入图像\n",
    "        hidden = tf.nn.relu(tf.matmul(x, self.W1) + self.b1)\n",
    "        logits = tf.matmul(hidden, self.W2) + self.b2\n",
    "        return logits\n",
    "        \n",
    "model = myModel()\n",
    "\n",
    "optimizer = optimizers.Adam()"
   ]
  },
  {
   "cell_type": "markdown",
   "metadata": {},
   "source": [
    "## 计算 loss"
   ]
  },
  {
   "cell_type": "code",
   "execution_count": 6,
   "metadata": {},
   "outputs": [],
   "source": [
    "@tf.function\n",
    "def compute_loss(logits, labels):\n",
    "    return tf.reduce_mean(\n",
    "        tf.nn.sparse_softmax_cross_entropy_with_logits(\n",
    "            logits=logits, labels=labels))\n",
    "\n",
    "@tf.function\n",
    "def compute_accuracy(logits, labels):\n",
    "    predictions = tf.argmax(logits, axis=1)\n",
    "    return tf.reduce_mean(tf.cast(tf.equal(predictions, labels), tf.float32))\n",
    "\n",
    "@tf.function\n",
    "def train_one_step(model, optimizer, x, y):\n",
    "    with tf.GradientTape() as tape:\n",
    "        logits = model(x)\n",
    "        loss = compute_loss(logits, y)\n",
    "\n",
    "    # compute gradient\n",
    "    trainable_vars = [model.W1, model.W2, model.b1, model.b2]\n",
    "    grads = tape.gradient(loss, trainable_vars)\n",
    "    for g, v in zip(grads, trainable_vars):\n",
    "        v.assign_sub(0.01*g)\n",
    "\n",
    "    accuracy = compute_accuracy(logits, y)\n",
    "\n",
    "    # loss and accuracy is scalar tensor\n",
    "    return loss, accuracy\n",
    "\n",
    "@tf.function\n",
    "def test(model, x, y):\n",
    "    logits = model(x)\n",
    "    loss = compute_loss(logits, y)\n",
    "    accuracy = compute_accuracy(logits, y)\n",
    "    return loss, accuracy"
   ]
  },
  {
   "cell_type": "markdown",
   "metadata": {},
   "source": [
    "## 实际训练"
   ]
  },
  {
   "cell_type": "code",
   "execution_count": 7,
   "metadata": {},
   "outputs": [
    {
     "name": "stdout",
     "output_type": "stream",
     "text": [
      "epoch 0 : loss 111.4768 ; accuracy 0.08476666\n",
      "epoch 1 : loss 92.83283 ; accuracy 0.093666665\n",
      "epoch 2 : loss 82.77393 ; accuracy 0.1022\n",
      "epoch 3 : loss 76.35255 ; accuracy 0.11011667\n",
      "epoch 4 : loss 71.7122 ; accuracy 0.11761667\n",
      "epoch 5 : loss 68.07933 ; accuracy 0.1245\n",
      "epoch 6 : loss 65.08528 ; accuracy 0.13123333\n",
      "epoch 7 : loss 62.560284 ; accuracy 0.13768333\n",
      "epoch 8 : loss 60.40606 ; accuracy 0.14403333\n",
      "epoch 9 : loss 58.540527 ; accuracy 0.15073334\n",
      "epoch 10 : loss 56.89892 ; accuracy 0.15648334\n",
      "epoch 11 : loss 55.43557 ; accuracy 0.1626\n",
      "epoch 12 : loss 54.115456 ; accuracy 0.16771667\n",
      "epoch 13 : loss 52.90796 ; accuracy 0.17261666\n",
      "epoch 14 : loss 51.78844 ; accuracy 0.17815\n",
      "epoch 15 : loss 50.737392 ; accuracy 0.18238333\n",
      "epoch 16 : loss 49.738667 ; accuracy 0.18735\n",
      "epoch 17 : loss 48.78341 ; accuracy 0.19131666\n",
      "epoch 18 : loss 47.865356 ; accuracy 0.19611667\n",
      "epoch 19 : loss 46.979794 ; accuracy 0.20035\n",
      "epoch 20 : loss 46.12251 ; accuracy 0.20451666\n",
      "epoch 21 : loss 45.290333 ; accuracy 0.20861667\n",
      "epoch 22 : loss 44.4818 ; accuracy 0.21316667\n",
      "epoch 23 : loss 43.696323 ; accuracy 0.21841666\n",
      "epoch 24 : loss 42.933067 ; accuracy 0.22288333\n",
      "epoch 25 : loss 42.190876 ; accuracy 0.22798334\n",
      "epoch 26 : loss 41.469246 ; accuracy 0.2325\n",
      "epoch 27 : loss 40.76762 ; accuracy 0.23701666\n",
      "epoch 28 : loss 40.08547 ; accuracy 0.24235\n",
      "epoch 29 : loss 39.422382 ; accuracy 0.24685\n",
      "epoch 30 : loss 38.77826 ; accuracy 0.25218335\n",
      "epoch 31 : loss 38.15366 ; accuracy 0.25725\n",
      "epoch 32 : loss 37.54844 ; accuracy 0.26263332\n",
      "epoch 33 : loss 36.961857 ; accuracy 0.2679\n",
      "epoch 34 : loss 36.393414 ; accuracy 0.27326667\n",
      "epoch 35 : loss 35.84268 ; accuracy 0.27876666\n",
      "epoch 36 : loss 35.3093 ; accuracy 0.28365\n",
      "epoch 37 : loss 34.792614 ; accuracy 0.28958333\n",
      "epoch 38 : loss 34.292175 ; accuracy 0.29541665\n",
      "epoch 39 : loss 33.80729 ; accuracy 0.30081666\n",
      "epoch 40 : loss 33.337215 ; accuracy 0.30616668\n",
      "epoch 41 : loss 32.881443 ; accuracy 0.31135\n",
      "epoch 42 : loss 32.439426 ; accuracy 0.31671667\n",
      "epoch 43 : loss 32.010406 ; accuracy 0.32173333\n",
      "epoch 44 : loss 31.593895 ; accuracy 0.32678333\n",
      "epoch 45 : loss 31.189434 ; accuracy 0.33188334\n",
      "epoch 46 : loss 30.796581 ; accuracy 0.33631667\n",
      "epoch 47 : loss 30.414787 ; accuracy 0.3413\n",
      "epoch 48 : loss 30.043486 ; accuracy 0.34553334\n",
      "epoch 49 : loss 29.6822 ; accuracy 0.35015\n",
      "test loss 28.80625 ; accuracy 0.3605\n"
     ]
    }
   ],
   "source": [
    "train_data, test_data = mnist_dataset()\n",
    "for epoch in range(50):\n",
    "    loss, accuracy = train_one_step(model, optimizer, \n",
    "                                    tf.constant(train_data[0], dtype=tf.float32), \n",
    "                                    tf.constant(train_data[1], dtype=tf.int64))\n",
    "    print('epoch', epoch, ': loss', loss.numpy(), '; accuracy', accuracy.numpy())\n",
    "loss, accuracy = test(model, \n",
    "                      tf.constant(test_data[0], dtype=tf.float32), \n",
    "                      tf.constant(test_data[1], dtype=tf.int64))\n",
    "\n",
    "print('test loss', loss.numpy(), '; accuracy', accuracy.numpy())"
   ]
  }
 ],
 "metadata": {
  "kernelspec": {
   "display_name": "Python 3",
   "language": "python",
   "name": "python3"
  },
  "language_info": {
   "codemirror_mode": {
    "name": "ipython",
    "version": 3
   },
   "file_extension": ".py",
   "mimetype": "text/x-python",
   "name": "python",
   "nbconvert_exporter": "python",
   "pygments_lexer": "ipython3",
   "version": "3.11.8"
  }
 },
 "nbformat": 4,
 "nbformat_minor": 2
}
