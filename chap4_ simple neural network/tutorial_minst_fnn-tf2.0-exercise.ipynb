{
 "cells": [
  {
   "cell_type": "markdown",
   "metadata": {},
   "source": [
    "## 准备数据"
   ]
  },
  {
   "cell_type": "code",
   "execution_count": 1,
   "metadata": {},
   "outputs": [],
   "source": [
    "import os\n",
    "import numpy as np\n",
    "import tensorflow as tf\n",
    "from tensorflow import keras\n",
    "from tensorflow.keras import layers, optimizers, datasets\n",
    "\n",
    "os.environ['TF_CPP_MIN_LOG_LEVEL'] = '2'  # or any {'0', '1', '2'}\n",
    "\n",
    "def mnist_dataset():\n",
    "    (x, y), (x_test, y_test) = datasets.mnist.load_data()\n",
    "    #normalize\n",
    "    x = x/255.0\n",
    "    x_test = x_test/255.0\n",
    "    \n",
    "    return (x, y), (x_test, y_test)"
   ]
  },
  {
   "cell_type": "code",
   "execution_count": 2,
   "metadata": {},
   "outputs": [
    {
     "name": "stdout",
     "output_type": "stream",
     "text": [
      "[(1, 'a'), (2, 'b'), (3, 'c'), (4, 'd')]\n"
     ]
    }
   ],
   "source": [
    "print(list(zip([1, 2, 3, 4], ['a', 'b', 'c', 'd'])))"
   ]
  },
  {
   "cell_type": "markdown",
   "metadata": {},
   "source": [
    "## 建立模型"
   ]
  },
  {
   "cell_type": "code",
   "execution_count": 3,
   "metadata": {},
   "outputs": [],
   "source": [
    "class myModel:\n",
    "    def __init__(self):\n",
    "        ####################\n",
    "        '''声明模型对应的参数'''\n",
    "        ####################\n",
    "        self.W1 = tf.Variable(tf.random.normal([784, 128]), dtype=tf.float32)\n",
    "        self.b1 = tf.Variable(tf.zeros([128]), dtype=tf.float32)\n",
    "        self.W2 = tf.Variable(tf.random.normal([128, 10]), dtype=tf.float32)\n",
    "        self.b2 = tf.Variable(tf.zeros([10]), dtype=tf.float32)\n",
    "    def __call__(self, x):\n",
    "        ####################\n",
    "        '''实现模型函数体，返回未归一化的logits'''\n",
    "        ####################\n",
    "        x = tf.reshape(x, [-1, 784])  # 展平输入图像\n",
    "        hidden = tf.nn.relu(tf.matmul(x, self.W1) + self.b1)\n",
    "        logits = tf.matmul(hidden, self.W2) + self.b2\n",
    "        return logits\n",
    "        \n",
    "model = myModel()\n",
    "\n",
    "optimizer = optimizers.Adam()"
   ]
  },
  {
   "cell_type": "markdown",
   "metadata": {},
   "source": [
    "## 计算 loss"
   ]
  },
  {
   "cell_type": "code",
   "execution_count": 4,
   "metadata": {},
   "outputs": [],
   "source": [
    "@tf.function\n",
    "def compute_loss(logits, labels):\n",
    "    return tf.reduce_mean(\n",
    "        tf.nn.sparse_softmax_cross_entropy_with_logits(\n",
    "            logits=logits, labels=labels))\n",
    "\n",
    "@tf.function\n",
    "def compute_accuracy(logits, labels):\n",
    "    predictions = tf.argmax(logits, axis=1)\n",
    "    return tf.reduce_mean(tf.cast(tf.equal(predictions, labels), tf.float32))\n",
    "\n",
    "@tf.function\n",
    "def train_one_step(model, optimizer, x, y):\n",
    "    with tf.GradientTape() as tape:\n",
    "        logits = model(x)\n",
    "        loss = compute_loss(logits, y)\n",
    "\n",
    "    # compute gradient\n",
    "    trainable_vars = [model.W1, model.W2, model.b1, model.b2]\n",
    "    grads = tape.gradient(loss, trainable_vars)\n",
    "    for g, v in zip(grads, trainable_vars):\n",
    "        v.assign_sub(0.01*g)\n",
    "\n",
    "    accuracy = compute_accuracy(logits, y)\n",
    "\n",
    "    # loss and accuracy is scalar tensor\n",
    "    return loss, accuracy\n",
    "\n",
    "@tf.function\n",
    "def test(model, x, y):\n",
    "    logits = model(x)\n",
    "    loss = compute_loss(logits, y)\n",
    "    accuracy = compute_accuracy(logits, y)\n",
    "    return loss, accuracy"
   ]
  },
  {
   "cell_type": "markdown",
   "metadata": {},
   "source": [
    "## 实际训练"
   ]
  },
  {
   "cell_type": "code",
   "execution_count": 5,
   "metadata": {},
   "outputs": [
    {
     "name": "stdout",
     "output_type": "stream",
     "text": [
      "epoch 0 : loss 112.491936 ; accuracy 0.096\n",
      "epoch 1 : loss 100.71522 ; accuracy 0.10498333\n",
      "epoch 2 : loss 93.016045 ; accuracy 0.11195\n",
      "epoch 3 : loss 87.22432 ; accuracy 0.117\n",
      "epoch 4 : loss 82.46303 ; accuracy 0.12233333\n",
      "epoch 5 : loss 78.405975 ; accuracy 0.1272\n",
      "epoch 6 : loss 74.89165 ; accuracy 0.13166666\n",
      "epoch 7 : loss 71.838776 ; accuracy 0.13766667\n",
      "epoch 8 : loss 69.18585 ; accuracy 0.14371666\n",
      "epoch 9 : loss 66.880264 ; accuracy 0.14961667\n",
      "epoch 10 : loss 64.87141 ; accuracy 0.15561667\n",
      "epoch 11 : loss 63.104225 ; accuracy 0.16133334\n",
      "epoch 12 : loss 61.527348 ; accuracy 0.167\n",
      "epoch 13 : loss 60.09998 ; accuracy 0.17215\n",
      "epoch 14 : loss 58.791 ; accuracy 0.17691667\n",
      "epoch 15 : loss 57.57522 ; accuracy 0.18131667\n",
      "epoch 16 : loss 56.4326 ; accuracy 0.18541667\n",
      "epoch 17 : loss 55.349083 ; accuracy 0.18976666\n",
      "epoch 18 : loss 54.31509 ; accuracy 0.19375\n",
      "epoch 19 : loss 53.3222 ; accuracy 0.19723333\n",
      "epoch 20 : loss 52.36444 ; accuracy 0.20068334\n",
      "epoch 21 : loss 51.437557 ; accuracy 0.2042\n",
      "epoch 22 : loss 50.538425 ; accuracy 0.20811667\n",
      "epoch 23 : loss 49.664562 ; accuracy 0.2115\n",
      "epoch 24 : loss 48.813618 ; accuracy 0.2153\n",
      "epoch 25 : loss 47.98401 ; accuracy 0.21885\n",
      "epoch 26 : loss 47.174675 ; accuracy 0.22233333\n",
      "epoch 27 : loss 46.38476 ; accuracy 0.22595\n",
      "epoch 28 : loss 45.613293 ; accuracy 0.2295\n",
      "epoch 29 : loss 44.8595 ; accuracy 0.2329\n",
      "epoch 30 : loss 44.12297 ; accuracy 0.23676667\n",
      "epoch 31 : loss 43.403713 ; accuracy 0.24088334\n",
      "epoch 32 : loss 42.70108 ; accuracy 0.2444\n",
      "epoch 33 : loss 42.014725 ; accuracy 0.2485\n",
      "epoch 34 : loss 41.344143 ; accuracy 0.25226668\n",
      "epoch 35 : loss 40.68878 ; accuracy 0.25606668\n",
      "epoch 36 : loss 40.048332 ; accuracy 0.25978333\n",
      "epoch 37 : loss 39.422615 ; accuracy 0.26365\n",
      "epoch 38 : loss 38.81139 ; accuracy 0.26733333\n",
      "epoch 39 : loss 38.214607 ; accuracy 0.27163333\n",
      "epoch 40 : loss 37.632275 ; accuracy 0.27518332\n",
      "epoch 41 : loss 37.06396 ; accuracy 0.27941668\n",
      "epoch 42 : loss 36.509407 ; accuracy 0.2839\n",
      "epoch 43 : loss 35.96874 ; accuracy 0.28848332\n",
      "epoch 44 : loss 35.4419 ; accuracy 0.29251668\n",
      "epoch 45 : loss 34.92846 ; accuracy 0.2965\n",
      "epoch 46 : loss 34.42809 ; accuracy 0.30101666\n",
      "epoch 47 : loss 33.940628 ; accuracy 0.30506667\n",
      "epoch 48 : loss 33.46616 ; accuracy 0.3093\n",
      "epoch 49 : loss 33.004368 ; accuracy 0.31391665\n",
      "test loss 31.627178 ; accuracy 0.3274\n"
     ]
    }
   ],
   "source": [
    "train_data, test_data = mnist_dataset()\n",
    "for epoch in range(50):\n",
    "    loss, accuracy = train_one_step(model, optimizer, \n",
    "                                    tf.constant(train_data[0], dtype=tf.float32), \n",
    "                                    tf.constant(train_data[1], dtype=tf.int64))\n",
    "    print('epoch', epoch, ': loss', loss.numpy(), '; accuracy', accuracy.numpy())\n",
    "loss, accuracy = test(model, \n",
    "                      tf.constant(test_data[0], dtype=tf.float32), \n",
    "                      tf.constant(test_data[1], dtype=tf.int64))\n",
    "\n",
    "print('test loss', loss.numpy(), '; accuracy', accuracy.numpy())"
   ]
  }
 ],
 "metadata": {
  "kernelspec": {
   "display_name": "Python 3",
   "language": "python",
   "name": "python3"
  },
  "language_info": {
   "codemirror_mode": {
    "name": "ipython",
    "version": 3
   },
   "file_extension": ".py",
   "mimetype": "text/x-python",
   "name": "python",
   "nbconvert_exporter": "python",
   "pygments_lexer": "ipython3",
   "version": "3.11.8"
  }
 },
 "nbformat": 4,
 "nbformat_minor": 2
}
