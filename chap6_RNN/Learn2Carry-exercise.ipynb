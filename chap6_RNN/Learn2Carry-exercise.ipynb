{
 "cells": [
  {
   "cell_type": "markdown",
   "metadata": {},
   "source": [
    "# 加法进位实验\n"
   ]
  },
  {
   "cell_type": "markdown",
   "metadata": {},
   "source": [
    "<img src=\"https://github.com/JerrikEph/jerrikeph.github.io/raw/master/Learn2Carry.png\" width=650>"
   ]
  },
  {
   "cell_type": "code",
   "execution_count": 1,
   "metadata": {
    "scrolled": true
   },
   "outputs": [],
   "source": [
    "import numpy as np\n",
    "import tensorflow as tf\n",
    "import collections\n",
    "from tensorflow import keras\n",
    "from tensorflow.keras import layers\n",
    "from tensorflow.keras import layers, optimizers, datasets\n",
    "import os,sys,tqdm"
   ]
  },
  {
   "cell_type": "markdown",
   "metadata": {},
   "source": [
    "## 数据生成\n",
    "我们随机在 `start->end`之间采样除整数对`(num1, num2)`，计算结果`num1+num2`作为监督信号。\n",
    "\n",
    "* 首先将数字转换成数字位列表 `convertNum2Digits`\n",
    "* 将数字位列表反向\n",
    "* 将数字位列表填充到同样的长度 `pad2len`\n"
   ]
  },
  {
   "cell_type": "code",
   "execution_count": 2,
   "metadata": {},
   "outputs": [],
   "source": [
    "def gen_data_batch(batch_size, start, end):\n",
    "    '''在(start, end)区间采样生成一个batch的整型的数据\n",
    "    Args :\n",
    "        batch_size: batch_size\n",
    "        start: 开始数值\n",
    "        end: 结束数值\n",
    "    '''\n",
    "    numbers_1 = np.random.randint(start, end, batch_size)\n",
    "    numbers_2 = np.random.randint(start, end, batch_size)\n",
    "    results = numbers_1 + numbers_2\n",
    "    return numbers_1, numbers_2, results\n",
    "\n",
    "def convertNum2Digits(Num):\n",
    "    '''将一个整数转换成一个数字位的列表,例如 133412 ==> [1, 3, 3, 4, 1, 2]\n",
    "    '''\n",
    "    strNum = str(Num)\n",
    "    chNums = list(strNum)\n",
    "    digitNums = [int(o) for o in strNum]\n",
    "    return digitNums\n",
    "\n",
    "def convertDigits2Num(Digits):\n",
    "    '''将数字位列表反向， 例如 [1, 3, 3, 4, 1, 2] ==> [2, 1, 4, 3, 3, 1]\n",
    "    '''\n",
    "    digitStrs = [str(o) for o in Digits]\n",
    "    numStr = ''.join(digitStrs)\n",
    "    Num = int(numStr)\n",
    "    return Num\n",
    "\n",
    "def pad2len(lst, length, pad=0):\n",
    "    '''将一个列表用`pad`填充到`length`的长度 例如 pad2len([1, 3, 2, 3], 6, pad=0) ==> [1, 3, 2, 3, 0, 0]\n",
    "    '''\n",
    "    lst+=[pad]*(length - len(lst))\n",
    "    return lst\n",
    "\n",
    "def results_converter(res_lst):\n",
    "    '''将预测好的数字位列表批量转换成为原始整数\n",
    "    Args:\n",
    "        res_lst: shape(b_sz, len(digits))\n",
    "    '''\n",
    "    res = [reversed(digits) for digits in res_lst]\n",
    "    return [convertDigits2Num(digits) for digits in res]\n",
    "\n",
    "def prepare_batch(Nums1, Nums2, results, maxlen):\n",
    "    '''准备一个batch的数据，将数值转换成反转的数位列表并且填充到固定长度\n",
    "    Args:\n",
    "        Nums1: shape(batch_size,)\n",
    "        Nums2: shape(batch_size,)\n",
    "        results: shape(batch_size,)\n",
    "        maxlen:  type(int)\n",
    "    Returns:\n",
    "        Nums1: shape(batch_size, maxlen)\n",
    "        Nums2: shape(batch_size, maxlen)\n",
    "        results: shape(batch_size, maxlen)\n",
    "    '''\n",
    "    Nums1 = [convertNum2Digits(o) for o in Nums1]\n",
    "    Nums2 = [convertNum2Digits(o) for o in Nums2]\n",
    "    results = [convertNum2Digits(o) for o in results]\n",
    "    \n",
    "    Nums1 = [list(reversed(o)) for o in Nums1]\n",
    "    Nums2 = [list(reversed(o)) for o in Nums2]\n",
    "    results = [list(reversed(o)) for o in results]\n",
    "    \n",
    "    Nums1 = [pad2len(o, maxlen) for o in Nums1]\n",
    "    Nums2 = [pad2len(o, maxlen) for o in Nums2]\n",
    "    results = [pad2len(o, maxlen) for o in results]\n",
    "    \n",
    "    return Nums1, Nums2, results"
   ]
  },
  {
   "cell_type": "markdown",
   "metadata": {},
   "source": [
    "# 建模过程， 按照图示完成建模"
   ]
  },
  {
   "cell_type": "code",
   "execution_count": 3,
   "metadata": {},
   "outputs": [],
   "source": [
    "class myRNNModel(keras.Model):\n",
    "    def __init__(self):\n",
    "        super(myRNNModel, self).__init__()\n",
    "        self.embed_layer = tf.keras.layers.Embedding(10, 32)\n",
    "        self.rnn_layer = tf.keras.layers.SimpleRNN(64, return_sequences=True)  # ✅ SimpleRNN 直接代替 RNNCell\n",
    "        self.dense = tf.keras.layers.Dense(10)\n",
    "\n",
    "    def call(self, num1, num2):\n",
    "        x1 = self.embed_layer(num1)\n",
    "        x2 = self.embed_layer(num2)\n",
    "        x = tf.concat([x1, x2], axis=-1)\n",
    "        x = self.rnn_layer(x)  # ✅ 确保 RNN 层返回完整序列\n",
    "        logits = self.dense(x)  # ✅ 确保 logits 形状正确\n",
    "        return logits\n"
   ]
  },
  {
   "cell_type": "code",
   "execution_count": 4,
   "metadata": {},
   "outputs": [],
   "source": [
    "@tf.function\n",
    "def compute_loss(logits, labels):\n",
    "    losses = tf.nn.sparse_softmax_cross_entropy_with_logits(\n",
    "            logits=logits, labels=labels)\n",
    "    return tf.reduce_mean(losses)\n",
    "\n",
    "@tf.function\n",
    "def train_one_step(model, optimizer, x, y, label):\n",
    "    with tf.GradientTape() as tape:\n",
    "        logits = model(x, y)  # ✅ 确保 forward pass 记录了梯度\n",
    "        loss = compute_loss(logits, label)\n",
    "\n",
    "    grads = tape.gradient(loss, model.trainable_variables)\n",
    "    \n",
    "    if None in grads:  # 检查是否有 None\n",
    "        print(\"Gradient computation issue: Some gradients are None\")\n",
    "    \n",
    "    optimizer.apply_gradients(zip(grads, model.trainable_variables))\n",
    "    return loss\n",
    "\n",
    "\n",
    "def train(steps, model, optimizer):\n",
    "    loss = 0.0\n",
    "    accuracy = 0.0\n",
    "    for step in range(steps):\n",
    "        datas = gen_data_batch(batch_size=200, start=0, end=555555555)\n",
    "        Nums1, Nums2, results = prepare_batch(*datas, maxlen=11)\n",
    "        loss = train_one_step(model, optimizer, tf.constant(Nums1, dtype=tf.int32), \n",
    "                              tf.constant(Nums2, dtype=tf.int32),\n",
    "                              tf.constant(results, dtype=tf.int64))\n",
    "        if step%50 == 0:\n",
    "            print('step', step, ': loss', loss.numpy())\n",
    "\n",
    "    return loss\n",
    "\n",
    "def evaluate(model):\n",
    "    datas = gen_data_batch(batch_size=2000, start=555555555, end=999999999)\n",
    "    Nums1, Nums2, results = prepare_batch(*datas, maxlen=11)\n",
    "    logits = model(tf.constant(Nums1, dtype=tf.int32), tf.constant(Nums2, dtype=tf.int32))\n",
    "    logits = logits.numpy()\n",
    "    pred = np.argmax(logits, axis=-1)\n",
    "    res = results_converter(pred)\n",
    "    for o in list(zip(datas[2], res))[:20]:\n",
    "        print(o[0], o[1], o[0]==o[1])\n",
    "\n",
    "    print('accuracy is: %g' % np.mean([o[0]==o[1] for o in zip(datas[2], res)]))\n"
   ]
  },
  {
   "cell_type": "code",
   "execution_count": 5,
   "metadata": {},
   "outputs": [],
   "source": [
    "optimizer = optimizers.Adam(0.001)\n",
    "model = myRNNModel()"
   ]
  },
  {
   "cell_type": "code",
   "execution_count": 6,
   "metadata": {},
   "outputs": [
    {
     "name": "stdout",
     "output_type": "stream",
     "text": [
      "step 0 : loss 2.3096125\n",
      "step 50 : loss 1.922168\n",
      "step 100 : loss 1.8924037\n",
      "step 150 : loss 1.8893971\n",
      "step 200 : loss 1.8801968\n",
      "step 250 : loss 1.8892667\n",
      "step 300 : loss 1.8795192\n",
      "step 350 : loss 1.8812553\n",
      "step 400 : loss 1.8791264\n",
      "step 450 : loss 1.8691494\n",
      "step 500 : loss 1.87731\n",
      "step 550 : loss 1.869683\n",
      "step 600 : loss 1.8583075\n",
      "step 650 : loss 1.8461235\n",
      "step 700 : loss 1.7964742\n",
      "step 750 : loss 1.713036\n",
      "step 800 : loss 1.5763631\n",
      "step 850 : loss 1.3353884\n",
      "step 900 : loss 1.0697426\n",
      "step 950 : loss 0.8923065\n",
      "step 1000 : loss 0.7619094\n",
      "step 1050 : loss 0.6524712\n",
      "step 1100 : loss 0.57445604\n",
      "step 1150 : loss 0.49940252\n",
      "step 1200 : loss 0.41953203\n",
      "step 1250 : loss 0.3545748\n",
      "step 1300 : loss 0.3036332\n",
      "step 1350 : loss 0.25437266\n",
      "step 1400 : loss 0.2074125\n",
      "step 1450 : loss 0.17823952\n",
      "step 1500 : loss 0.1438991\n",
      "step 1550 : loss 0.12187605\n",
      "step 1600 : loss 0.10489245\n",
      "step 1650 : loss 0.08956407\n",
      "step 1700 : loss 0.07700596\n",
      "step 1750 : loss 0.068475306\n",
      "step 1800 : loss 0.061394308\n",
      "step 1850 : loss 0.05346444\n",
      "step 1900 : loss 0.04767322\n",
      "step 1950 : loss 0.04240049\n",
      "step 2000 : loss 0.038399227\n",
      "step 2050 : loss 0.034010183\n",
      "step 2100 : loss 0.031467214\n",
      "step 2150 : loss 0.029094381\n",
      "step 2200 : loss 0.026089681\n",
      "step 2250 : loss 0.024440974\n",
      "step 2300 : loss 0.022951938\n",
      "step 2350 : loss 0.02044546\n",
      "step 2400 : loss 0.019190684\n",
      "step 2450 : loss 0.01788818\n",
      "step 2500 : loss 0.016333891\n",
      "step 2550 : loss 0.015894752\n",
      "step 2600 : loss 0.014561742\n",
      "step 2650 : loss 0.013534012\n",
      "step 2700 : loss 0.013186776\n",
      "step 2750 : loss 0.011881056\n",
      "step 2800 : loss 0.011316379\n",
      "step 2850 : loss 0.010691488\n",
      "step 2900 : loss 0.010408764\n",
      "step 2950 : loss 0.009888333\n",
      "1834471191 1834471191 True\n",
      "1768418904 1768418904 True\n",
      "1254941438 1254941438 True\n",
      "1699470145 1699470145 True\n",
      "1477881102 1477881102 True\n",
      "1636741544 1636741544 True\n",
      "1482467723 1482467723 True\n",
      "1498920401 1498920401 True\n",
      "1438029069 1438029069 True\n",
      "1369680427 1369680427 True\n",
      "1709707362 1709707362 True\n",
      "1341224678 1341224678 True\n",
      "1876141472 1876141472 True\n",
      "1233937846 1233937846 True\n",
      "1367605831 1367605831 True\n",
      "1639616697 1639616697 True\n",
      "1126572824 1126572824 True\n",
      "1763349781 1763349781 True\n",
      "1813905929 1813905929 True\n",
      "1435773881 1435773881 True\n",
      "accuracy is: 1\n"
     ]
    }
   ],
   "source": [
    "train(3000, model, optimizer)\n",
    "evaluate(model)"
   ]
  },
  {
   "cell_type": "code",
   "execution_count": null,
   "metadata": {
    "collapsed": true
   },
   "outputs": [],
   "source": []
  },
  {
   "cell_type": "code",
   "execution_count": null,
   "metadata": {},
   "outputs": [],
   "source": []
  },
  {
   "cell_type": "code",
   "execution_count": null,
   "metadata": {},
   "outputs": [],
   "source": []
  },
  {
   "cell_type": "code",
   "execution_count": null,
   "metadata": {},
   "outputs": [],
   "source": []
  },
  {
   "cell_type": "code",
   "execution_count": null,
   "metadata": {
    "collapsed": true
   },
   "outputs": [],
   "source": []
  }
 ],
 "metadata": {
  "kernelspec": {
   "display_name": "Python 3",
   "language": "python",
   "name": "python3"
  },
  "language_info": {
   "codemirror_mode": {
    "name": "ipython",
    "version": 3
   },
   "file_extension": ".py",
   "mimetype": "text/x-python",
   "name": "python",
   "nbconvert_exporter": "python",
   "pygments_lexer": "ipython3",
   "version": "3.11.8"
  }
 },
 "nbformat": 4,
 "nbformat_minor": 2
}
